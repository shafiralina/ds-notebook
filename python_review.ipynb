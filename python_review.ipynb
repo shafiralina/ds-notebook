{
 "cells": [
  {
   "cell_type": "markdown",
   "metadata": {},
   "source": [
    "# Python Version Checking"
   ]
  },
  {
   "cell_type": "code",
   "execution_count": 1,
   "metadata": {},
   "outputs": [
    {
     "name": "stdout",
     "output_type": "stream",
     "text": [
      "Python Version: 3.7.2 (default, Dec 29 2018, 06:19:36) \n",
      "[GCC 7.3.0] \n",
      "\n"
     ]
    }
   ],
   "source": [
    "import sys\n",
    "print(\"Python Version:\", sys.version, '\\n')"
   ]
  },
  {
   "cell_type": "markdown",
   "metadata": {
    "slideshow": {
     "slide_type": "slide"
    }
   },
   "source": [
    "# Python Data Types Review"
   ]
  },
  {
   "cell_type": "markdown",
   "metadata": {},
   "source": [
    "### \"Normal Data Types\""
   ]
  },
  {
   "cell_type": "code",
   "execution_count": 2,
   "metadata": {},
   "outputs": [
    {
     "name": "stdout",
     "output_type": "stream",
     "text": [
      "Integer (int):  <class 'int'>\n",
      "Float (float):  <class 'float'>\n",
      "String (str):  <class 'str'>\n",
      "Boolean (bool):  <class 'bool'>\n"
     ]
    }
   ],
   "source": [
    "print(\"Integer (int): \", type(1))\n",
    "print(\"Float (float): \", type(1.5))\n",
    "print(\"String (str): \", type(\"test\"))\n",
    "print(\"Boolean (bool): \", type(True))"
   ]
  },
  {
   "cell_type": "markdown",
   "metadata": {},
   "source": [
    "These are the basic types of data that we'll mostly work with in Python. \n",
    "\n",
    "* Integers bilangan bulat\n",
    "* Floats bilangan tidak bulat \n",
    "* Strings are text data (bisa angka, tapi tidak jadi angka \\*mind blown\\*). \n",
    "* Booleans True or False"
   ]
  },
  {
   "cell_type": "markdown",
   "metadata": {},
   "source": [
    "### Tuples and Python Selection/Slicing Rules"
   ]
  },
  {
   "cell_type": "markdown",
   "metadata": {},
   "source": [
    "sebuah array, tapi immutable"
   ]
  },
  {
   "cell_type": "code",
   "execution_count": 2,
   "metadata": {},
   "outputs": [
    {
     "name": "stdout",
     "output_type": "stream",
     "text": [
      "(1, '23', 'cuk', 19, 'asyu', 42)\n"
     ]
    }
   ],
   "source": [
    "contoh_tuple = (1, \"23\", \"cuk\", 19, \"asyu\", 42)\n",
    "print(contoh_tuple)"
   ]
  },
  {
   "cell_type": "code",
   "execution_count": null,
   "metadata": {},
   "outputs": [],
   "source": [
    "#tuple hanya bisa dipanggil lewat index, yay[0]"
   ]
  },
  {
   "cell_type": "markdown",
   "metadata": {},
   "source": [
    "ambil salah satu elemennya"
   ]
  },
  {
   "cell_type": "code",
   "execution_count": 4,
   "metadata": {},
   "outputs": [
    {
     "name": "stdout",
     "output_type": "stream",
     "text": [
      "1\n",
      "cuk\n"
     ]
    }
   ],
   "source": [
    "print(contoh_tuple[0]) # python mulai dari 0, gak kayak matlab\n",
    "print(contoh_tuple[2])"
   ]
  },
  {
   "cell_type": "markdown",
   "metadata": {},
   "source": [
    "gimana kalo mau lebih dari satu elemen? \n",
    "\n",
    "introducing: Python Slicing\n",
    "\n",
    "```python\n",
    "# short version\n",
    "name_of_object_to_slice[start:stop:step] \n",
    "\n",
    "# longer version\n",
    "name_of_object_to_slice[start_index : up_to_but_not_this_index : how many steps between returns]\n",
    "```"
   ]
  },
  {
   "cell_type": "code",
   "execution_count": 5,
   "metadata": {},
   "outputs": [
    {
     "name": "stdout",
     "output_type": "stream",
     "text": [
      "('23', 'cuk', 19)\n"
     ]
    }
   ],
   "source": [
    "# mengambil indeks 1,2,3\n",
    "print(contoh_tuple[1:4]) "
   ]
  },
  {
   "cell_type": "code",
   "execution_count": 6,
   "metadata": {},
   "outputs": [
    {
     "name": "stdout",
     "output_type": "stream",
     "text": [
      "(1, 'cuk', 'asyu')\n"
     ]
    }
   ],
   "source": [
    "# ambil dari awal, tapi skip 2, mengambil indeks: 0,2,4\n",
    "print(contoh_tuple[::2])"
   ]
  },
  {
   "cell_type": "code",
   "execution_count": 7,
   "metadata": {},
   "outputs": [
    {
     "name": "stdout",
     "output_type": "stream",
     "text": [
      "('asyu', 42)\n",
      "42\n"
     ]
    }
   ],
   "source": [
    "# Grabbing the last 2 digits\n",
    "print(contoh_tuple[-2:])\n",
    "print(contoh_tuple[-1])"
   ]
  },
  {
   "cell_type": "markdown",
   "metadata": {},
   "source": [
    "What if we want to change one of the elements of a tuple?"
   ]
  },
  {
   "cell_type": "code",
   "execution_count": 8,
   "metadata": {},
   "outputs": [
    {
     "ename": "TypeError",
     "evalue": "'tuple' object does not support item assignment",
     "output_type": "error",
     "traceback": [
      "\u001b[0;31m---------------------------------------------------------------------------\u001b[0m",
      "\u001b[0;31mTypeError\u001b[0m                                 Traceback (most recent call last)",
      "\u001b[0;32m<ipython-input-8-ff1103d592f4>\u001b[0m in \u001b[0;36m<module>\u001b[0;34m\u001b[0m\n\u001b[0;32m----> 1\u001b[0;31m \u001b[0mcontoh_tuple\u001b[0m\u001b[0;34m[\u001b[0m\u001b[0;36m1\u001b[0m\u001b[0;34m]\u001b[0m \u001b[0;34m=\u001b[0m \u001b[0;36m7\u001b[0m\u001b[0;34m\u001b[0m\u001b[0;34m\u001b[0m\u001b[0m\n\u001b[0m",
      "\u001b[0;31mTypeError\u001b[0m: 'tuple' object does not support item assignment"
     ]
    }
   ],
   "source": [
    "contoh_tuple[1] = 7"
   ]
  },
  {
   "cell_type": "markdown",
   "metadata": {},
   "source": [
    "### Lists"
   ]
  },
  {
   "cell_type": "code",
   "execution_count": null,
   "metadata": {},
   "outputs": [],
   "source": [
    "#list hanya bisa dipanggil lewat index, contoh[0]"
   ]
  },
  {
   "cell_type": "code",
   "execution_count": null,
   "metadata": {},
   "outputs": [],
   "source": []
  },
  {
   "cell_type": "markdown",
   "metadata": {},
   "source": [
    "List juga salah satu jenis dari \"array\"-nya python, hanya saja bisa diubah. "
   ]
  },
  {
   "cell_type": "code",
   "execution_count": 15,
   "metadata": {},
   "outputs": [
    {
     "name": "stdout",
     "output_type": "stream",
     "text": [
      "[1, 2, 3, 4, 5, 6, 7, 8]\n"
     ]
    }
   ],
   "source": [
    "example_list = [1,2,3,4,5,6,7,8]\n",
    "print(example_list)"
   ]
  },
  {
   "cell_type": "code",
   "execution_count": 6,
   "metadata": {},
   "outputs": [
    {
     "name": "stdout",
     "output_type": "stream",
     "text": [
      "[1, 2, 3, ['satu', 'dua']]\n",
      "dua\n"
     ]
    }
   ],
   "source": [
    "misal =[1,2,3]\n",
    "misal.append(['satu','dua'])\n",
    "print(misal)\n",
    "print(misal[3][1])"
   ]
  },
  {
   "cell_type": "code",
   "execution_count": 16,
   "metadata": {},
   "outputs": [
    {
     "name": "stdout",
     "output_type": "stream",
     "text": [
      "[1, 2, 3, 4]\n"
     ]
    }
   ],
   "source": [
    "print(example_list[0:4])"
   ]
  },
  {
   "cell_type": "code",
   "execution_count": 17,
   "metadata": {},
   "outputs": [
    {
     "name": "stdout",
     "output_type": "stream",
     "text": [
      "['HAHAH TUPLE TIDAK BISA DIUBAH', 2, 3, 4, 5, 6, 7, 8]\n"
     ]
    }
   ],
   "source": [
    "example_list[0] = 'HAHAH TUPLE TIDAK BISA DIUBAH'\n",
    "print(example_list)"
   ]
  },
  {
   "cell_type": "code",
   "execution_count": 18,
   "metadata": {},
   "outputs": [
    {
     "name": "stdout",
     "output_type": "stream",
     "text": [
      "('HAHAH TUPLE TIDAK BISA DIUBAH', 2, 3, 4, 5, 6, 7, 8)\n",
      "<class 'tuple'>\n"
     ]
    }
   ],
   "source": [
    "new_tuple = tuple(example_list)\n",
    "print(new_tuple)\n",
    "print(type(new_tuple))"
   ]
  },
  {
   "cell_type": "code",
   "execution_count": 19,
   "metadata": {},
   "outputs": [
    {
     "name": "stdout",
     "output_type": "stream",
     "text": [
      "[1, '23', 'cuk', 19, 'asyu', 42]\n",
      "<class 'list'>\n"
     ]
    }
   ],
   "source": [
    "new_list = list(contoh_tuple)\n",
    "print(new_list)\n",
    "print(type(new_list))"
   ]
  },
  {
   "cell_type": "code",
   "execution_count": 20,
   "metadata": {},
   "outputs": [
    {
     "name": "stdout",
     "output_type": "stream",
     "text": [
      "[1, '23', 'cuk', 19, 'asyu', 42, 'NEW DATA']\n"
     ]
    }
   ],
   "source": [
    "# Let's add some data to the list\n",
    "new_list.append(\"NEW DATA\")\n",
    "print(new_list)"
   ]
  },
  {
   "cell_type": "code",
   "execution_count": 21,
   "metadata": {},
   "outputs": [
    {
     "name": "stdout",
     "output_type": "stream",
     "text": [
      "NEW DATA\n",
      "[1, '23', 'cuk', 19, 'asyu', 42]\n"
     ]
    }
   ],
   "source": [
    "# Remove data piece\n",
    "print(new_list.pop())\n",
    "print(new_list)"
   ]
  },
  {
   "cell_type": "code",
   "execution_count": 34,
   "metadata": {
    "scrolled": true
   },
   "outputs": [
    {
     "data": {
      "text/plain": [
       "[1, '23', 19, 'asyu']"
      ]
     },
     "execution_count": 34,
     "metadata": {},
     "output_type": "execute_result"
    }
   ],
   "source": [
    "new_list\n",
    "new_list.remove('cuk')\n",
    "new_list"
   ]
  },
  {
   "cell_type": "code",
   "execution_count": 8,
   "metadata": {},
   "outputs": [
    {
     "name": "stdout",
     "output_type": "stream",
     "text": [
      "[7, 2, 45, 4, 43, 56, 29]\n",
      "[2, 4, 7, 29, 43, 45, 56]\n",
      "['shafira', 's', 'v', 'hai']\n",
      "['hai', 's', 'shafira', 'v']\n"
     ]
    }
   ],
   "source": [
    "angka = [7,2,45,4,43,56,29]\n",
    "print(angka)\n",
    "angka.sort()\n",
    "print(angka)\n",
    "\n",
    "huruf = ['shafira', 's', 'v', 'hai']\n",
    "print(huruf)\n",
    "huruf.sort()\n",
    "print(huruf)"
   ]
  },
  {
   "cell_type": "markdown",
   "metadata": {},
   "source": [
    "### Sets"
   ]
  },
  {
   "cell_type": "code",
   "execution_count": 10,
   "metadata": {},
   "outputs": [
    {
     "name": "stdout",
     "output_type": "stream",
     "text": [
      "{1, 3}\n"
     ]
    },
    {
     "data": {
      "text/plain": [
       "2"
      ]
     },
     "execution_count": 10,
     "metadata": {},
     "output_type": "execute_result"
    }
   ],
   "source": [
    "angka=[1,1,1,1,1,1,3]\n",
    "len(angka)\n",
    "angka_tanpa_ulang = set(angka)\n",
    "print(angka_tanpa_ulang)\n",
    "len(angka_tanpa_ulang)"
   ]
  },
  {
   "cell_type": "code",
   "execution_count": 35,
   "metadata": {},
   "outputs": [
    {
     "name": "stdout",
     "output_type": "stream",
     "text": [
      "{0, 1, 2, 5, 6, 8}\n"
     ]
    }
   ],
   "source": [
    "list_to_be_made_a_set = [1,1,1,1,5,2,6,8,0]\n",
    "set_from_list = set(list_to_be_made_a_set)\n",
    "print(set_from_list)"
   ]
  },
  {
   "cell_type": "code",
   "execution_count": 36,
   "metadata": {},
   "outputs": [
    {
     "name": "stdout",
     "output_type": "stream",
     "text": [
      "Union:  {0, 1, 2, 3, 4, 5, 6, 7}\n",
      "Intersect:  {2, 3, 4}\n"
     ]
    }
   ],
   "source": [
    "set_A = {0,1,2,3,4}\n",
    "set_B = {2,3,4,5,6,7}\n",
    "\n",
    "print(\"Union: \", set_A.union(set_B))\n",
    "print(\"Intersect: \", set_A.intersection(set_B))"
   ]
  },
  {
   "cell_type": "code",
   "execution_count": 37,
   "metadata": {},
   "outputs": [
    {
     "ename": "TypeError",
     "evalue": "'set' object does not support indexing",
     "output_type": "error",
     "traceback": [
      "\u001b[0;31m---------------------------------------------------------------------------\u001b[0m",
      "\u001b[0;31mTypeError\u001b[0m                                 Traceback (most recent call last)",
      "\u001b[0;32m<ipython-input-37-425cb2b93b63>\u001b[0m in \u001b[0;36m<module>\u001b[0;34m\u001b[0m\n\u001b[1;32m      1\u001b[0m \u001b[0;31m# We can't adjust sets or look up a single element\u001b[0m\u001b[0;34m\u001b[0m\u001b[0;34m\u001b[0m\u001b[0;34m\u001b[0m\u001b[0m\n\u001b[0;32m----> 2\u001b[0;31m \u001b[0mset_A\u001b[0m\u001b[0;34m[\u001b[0m\u001b[0;36m3\u001b[0m\u001b[0;34m]\u001b[0m\u001b[0;34m\u001b[0m\u001b[0;34m\u001b[0m\u001b[0m\n\u001b[0m",
      "\u001b[0;31mTypeError\u001b[0m: 'set' object does not support indexing"
     ]
    }
   ],
   "source": [
    "# We can't adjust sets or look up a single element\n",
    "set_A[3]"
   ]
  },
  {
   "cell_type": "code",
   "execution_count": 38,
   "metadata": {},
   "outputs": [
    {
     "ename": "TypeError",
     "evalue": "'set' object does not support item assignment",
     "output_type": "error",
     "traceback": [
      "\u001b[0;31m---------------------------------------------------------------------------\u001b[0m",
      "\u001b[0;31mTypeError\u001b[0m                                 Traceback (most recent call last)",
      "\u001b[0;32m<ipython-input-38-5003309c4214>\u001b[0m in \u001b[0;36m<module>\u001b[0;34m\u001b[0m\n\u001b[0;32m----> 1\u001b[0;31m \u001b[0mset_A\u001b[0m\u001b[0;34m[\u001b[0m\u001b[0;36m3\u001b[0m\u001b[0;34m]\u001b[0m \u001b[0;34m=\u001b[0m \u001b[0;36m7\u001b[0m\u001b[0;34m\u001b[0m\u001b[0;34m\u001b[0m\u001b[0m\n\u001b[0m",
      "\u001b[0;31mTypeError\u001b[0m: 'set' object does not support item assignment"
     ]
    }
   ],
   "source": [
    "set_A[3] = 7"
   ]
  },
  {
   "cell_type": "markdown",
   "metadata": {},
   "source": [
    "### Dictionaries"
   ]
  },
  {
   "cell_type": "markdown",
   "metadata": {},
   "source": [
    "Dictionary adalah sebuah 'key-value' pair. yah dicoba aja"
   ]
  },
  {
   "cell_type": "code",
   "execution_count": 23,
   "metadata": {},
   "outputs": [
    {
     "name": "stdout",
     "output_type": "stream",
     "text": [
      "3\n"
     ]
    }
   ],
   "source": [
    "new_dictionary = {'sebuah_key': 3}\n",
    "print(new_dictionary['sebuah_key'])"
   ]
  },
  {
   "cell_type": "markdown",
   "metadata": {},
   "source": [
    "Dictionaries can store more than just integers though. Let's look."
   ]
  },
  {
   "cell_type": "code",
   "execution_count": null,
   "metadata": {},
   "outputs": [],
   "source": [
    "new_dictionary = {'key_for_a_list': [0,1,2,3,4], 'key_for_another_dictionary': {'bob': 1}}\n",
    "print(new_dictionary['key_for_a_list'])"
   ]
  },
  {
   "cell_type": "code",
   "execution_count": null,
   "metadata": {},
   "outputs": [],
   "source": [
    "print(new_dictionary['key_for_another_dictionary'])\n",
    "print(new_dictionary['key_for_another_dictionary']['bob'])"
   ]
  },
  {
   "cell_type": "code",
   "execution_count": 11,
   "metadata": {},
   "outputs": [
    {
     "name": "stdout",
     "output_type": "stream",
     "text": [
      "{'mahasiswa': ['yan', 'tiyan', 'sumihar'], 'dosen': ['budi s', 'dwi ratna', 'dieky']}\n",
      "['yan', 'tiyan', 'sumihar']\n",
      "sumihar\n"
     ]
    }
   ],
   "source": [
    "# Example with some baseball stats!\n",
    "# Let's assume a format like [Team, Games, Plate Apperance, Home Runs]\n",
    "matkul = {'alpro': {'mahasiswa': ['yan', 'tiyan', 'sumihar'], 'dosen':['budi s', 'dwi ratna', 'dieky']},\n",
    "                'pbo': {'mahasiswa': ['venansius', 'tjahjono', 'vinsensius']}} # Yes, that's a real baseball player's name\n",
    "print(matkul['alpro'])\n",
    "print(matkul['alpro']['mahasiswa'])\n",
    "print(matkul['alpro']['mahasiswa'][2])"
   ]
  },
  {
   "cell_type": "markdown",
   "metadata": {},
   "source": [
    "Note that I was able to use an integer as a key. Any object that's immutable can be used as a key. So that means we can't use lists as keys, but we can use tuples. Let's try to add some things to our dictionary."
   ]
  },
  {
   "cell_type": "code",
   "execution_count": 49,
   "metadata": {},
   "outputs": [
    {
     "name": "stdout",
     "output_type": "stream",
     "text": [
      "dict_keys(['alpro', 'pbo'])\n",
      "dict_values([{'mahasiswa': ['yan', 'tiyan', 'sumihar'], 'dosen': ['budi s', 'dwi ratna', 'dieky']}, {'mahasiswa': ['venansius', 'tjahjono', 'vinsensius']}])\n"
     ]
    }
   ],
   "source": [
    "# We can also access just the keys or just the values with the proper methods\n",
    "print(matkul.keys())\n",
    "print(matkul.values())"
   ]
  },
  {
   "cell_type": "markdown",
   "metadata": {},
   "source": [
    "So dictionaries allow us to assign a key to each value we want to contain. The keys must be immutable to be `hashable`, which is why it's complaining about the list. \n",
    "\n",
    "What's a `hash` though? The reason we like dictionaries is that they are really fast at retrieving data. A hash essentially says, \"I'm going to store this data about `alpro` (the key given) in memory over at address XYZ. So when someone asks for the key `alpro` I'll just know to go to XYZ right away. "
   ]
  },
  {
   "cell_type": "markdown",
   "metadata": {},
   "source": [
    "# Following the Pythonic Coding Style"
   ]
  },
  {
   "cell_type": "markdown",
   "metadata": {},
   "source": [
    "Python has a set of rules that determine \"how we should write Python\" code. It's called [PEP8](https://www.python.org/dev/peps/pep-0008/). For the next section, we're going to go through some of the more important parts of PEP 8 that may be counter-intuitive when new to programming. We'll also highlights some of the special Python-specific types of code are. Note this is not a total demonstration of all of PEP8, we're just focusing on some specific aspects.\n",
    "\n",
    "To start, let's look at `import this` which is a small easter egg built into Python. It's meant to be a high-level guide to how we should think about Python coding. It is not binding, nor does everyone agree with all the statements, but it's a cute way to center yourself before programming in Python."
   ]
  },
  {
   "cell_type": "code",
   "execution_count": null,
   "metadata": {
    "slideshow": {
     "slide_type": "slide"
    }
   },
   "outputs": [],
   "source": [
    "import this"
   ]
  },
  {
   "cell_type": "markdown",
   "metadata": {},
   "source": [
    "If you remember nothing else, remember these points about coding in Python:\n",
    "\n",
    ">Code is for people. 95% of the time it's not running. Write your code so that it can be read. Executing is 'secondary'. Your future self will thank you while debugging. A super clever solution that is only one line long, but no one can quickly debug is worse than a five line solution that everyone understands.\n",
    "\n",
    "> **The correct order of code development (in a nutshell)**\n",
    "> * Make it work\n",
    "> * Make it right\n",
    "> * Make it readable\n",
    "> * Make it fast (you rarely get to do this part)\n",
    "\n",
    "> \"Premature optimization of code is the root of all evil.\"\n",
    "> - Donald Knuth (Famous Computer Scientist)"
   ]
  },
  {
   "cell_type": "markdown",
   "metadata": {},
   "source": [
    "## Variable Names"
   ]
  },
  {
   "cell_type": "markdown",
   "metadata": {},
   "source": [
    "A few quick rules on variable names. In general, I try to follow the rule, \"would an innebriated version of myself be able to figure out what this variable does from the name? If not, change it.\"\n",
    "\n",
    "More specifically:\n",
    "    \n",
    "* Your variables should be named sensible things. `x` is not a sensible thing.\n",
    "* Long-winded variable names are preferable to vague names. Shorter, but still specific names are even better.\n",
    "* Use hyphens to stand in for spaces in names (Python convention)\n",
    "* No capitalization, typically\n",
    "\n",
    "Here are some example variable names:\n",
    "\n",
    "`customer_order_value`, `ordered_document_list`, `teks_kompas_minggu13`\n",
    "\n",
    "Even without context, I know what these variable contain. That's the type of response we want."
   ]
  },
  {
   "cell_type": "markdown",
   "metadata": {
    "slideshow": {
     "slide_type": "slide"
    }
   },
   "source": [
    "## Functions - supaya gak ngulang-ngulang\n",
    "\n",
    "\n",
    "If you find yourself copy-and-pasting code, don't do that. \n",
    "\n",
    "We should never copy-paste code. The solution is to build functions. Let's imagine I'm processing a bunch of rows of data where I want to pull out a user name from the sales record and keep track of how many times I've seen a user in that table. Like so:"
   ]
  },
  {
   "cell_type": "code",
   "execution_count": 9,
   "metadata": {
    "slideshow": {
     "slide_type": "slide"
    }
   },
   "outputs": [
    {
     "name": "stdout",
     "output_type": "stream",
     "text": [
      "{'Sam': 3, 'Carol': 2, 'Doug': 2, 'Oliver': 1, 'Tari': 2}\n"
     ]
    }
   ],
   "source": [
    "table1 = [['Sam', 36, 85.95],\n",
    " ['Carol', 75, 53.65],\n",
    " ['Sam', 90, 95.37],\n",
    " ['Doug', 61, 19.8],\n",
    " ['Sam', 41, 45.22],\n",
    " ['Doug', 29, 42.98],\n",
    " ['Oliver', 61, 95.74],\n",
    " ['Carol', 32, 17.12],\n",
    " ['Tari', 27, 68.83],\n",
    " ['Tari', 81, 62.47]]\n",
    "\n",
    "name_counter = {}\n",
    "for row in table1:\n",
    "    name = row[0]\n",
    "    if name in name_counter.keys():\n",
    "        name_counter[name] += 1\n",
    "    else:\n",
    "        name_counter[name] = 1\n",
    "print(name_counter)"
   ]
  },
  {
   "cell_type": "markdown",
   "metadata": {},
   "source": [
    "But what if I get a new table and want to do the same thing? I have two options, I can copy that code above, or I could just make it into a function. Let's see how I would do the latter."
   ]
  },
  {
   "cell_type": "code",
   "execution_count": 10,
   "metadata": {},
   "outputs": [
    {
     "name": "stdout",
     "output_type": "stream",
     "text": [
      "{'Sam': 3, 'Carol': 2, 'Doug': 2, 'Oliver': 1, 'Tari': 2}\n"
     ]
    }
   ],
   "source": [
    "def count_names_in_tables(table_to_count):\n",
    "    \"\"\"\n",
    "    Takes in a table of data, where the first (0th) column\n",
    "    is the name of the user, and counts how many time each\n",
    "    user appears.\n",
    "    ---\n",
    "    Inputs: table (list of lists or array)\n",
    "    Outputs: Dictionary (keys are names, values are counts)\n",
    "    \"\"\"\n",
    "    name_counter = {}\n",
    "    for row in table_to_count:\n",
    "        name = row[0]\n",
    "        if name in name_counter.keys():\n",
    "            name_counter[name] += 1\n",
    "        else:\n",
    "            name_counter[name] = 1\n",
    "    return name_counter\n",
    "\n",
    "print(count_names_in_tables(table1))"
   ]
  },
  {
   "cell_type": "code",
   "execution_count": 11,
   "metadata": {},
   "outputs": [
    {
     "name": "stdout",
     "output_type": "stream",
     "text": [
      "{'Oliver': 1, 'Tari': 3, 'Carol': 4, 'Kelly': 1, 'Sam': 1}\n"
     ]
    }
   ],
   "source": [
    "table2 = [['Oliver', 12, 49.95],\n",
    " ['Tari', 76, 30.71],\n",
    " ['Carol', 98, 25.07],\n",
    " ['Carol', 24, 11.85],\n",
    " ['Carol', 34, 13.36],\n",
    " ['Kelly', 14, 34.31],\n",
    " ['Tari', 6, 86.11],\n",
    " ['Tari', 90, 29.08],\n",
    " ['Carol', 55, 45.61],\n",
    " ['Sam', 88, 97.47]]\n",
    "\n",
    "print(count_names_in_tables(table2))"
   ]
  },
  {
   "cell_type": "markdown",
   "metadata": {},
   "source": [
    "Let's note a few things about my function:\n",
    "\n",
    "* This didn't hard code any variables. We want our functions to be flexible.\n",
    "* This isn't something that I would only call one time - we don't want our functions to be 'python scripts' that are pretending to be functions.\n",
    "* This does one thing. At the end of the day, every function should accomplish one goal. That might mean we need to call a function within a function to make sure each function is only acheiving one goal at a time.\n",
    "\n",
    "So for example, you might have a function structure like this:\n",
    "\n",
    "```python\n",
    "def clean_person_name(name):\n",
    "    \"\"\"\n",
    "    Cleans the user name and returns it back\n",
    "    \"\"\"\n",
    "    name = name.lower()\n",
    "    name = name.replace(\"'\",\"\") # replace apostrophes with nothing for simplicity!\n",
    "    return name\n",
    "\n",
    "def process_row(row):\n",
    "    \"\"\"\n",
    "    Takes a row of data and cleans all of the columns\n",
    "    before sending it back to the main processing loop\n",
    "    \"\"\"\n",
    "    name = clean_person_name(row[0])\n",
    "    product_name = lookup_product_name_from_id(row[1])\n",
    "    converted_price = convert_pounds_to_dollars(row[2])\n",
    "    return (name, product_name, converted_price)\n",
    "```\n",
    "\n",
    "In this example, process_row only really accomplishes one task - processing each row. However, it needed some help in cleaning the persons name, so we outsourced that to the other function of `clean_person_name` which only has one job - cleaning the person's name.\n",
    "\n",
    "Those functions allow us to perform repeated actions efficiently, with minimal code. They also give us a few other benefits:\n",
    "\n",
    "* If we need to upgrade our process, we just have to change the function in one place and it will propagate to the rest of the code.\n",
    "* When we get errors, Python tracks what function broke and where, so we'll be able to quickly track down errors.\n",
    "* If we're clever with args and kwargs, we should be able to build very flexible solutions to many problems.\n",
    "    "
   ]
  },
  {
   "cell_type": "markdown",
   "metadata": {
    "slideshow": {
     "slide_type": "slide"
    }
   },
   "source": [
    "## How to check for truth in Python\n",
    "\n",
    "In many languages, you need to explicitly check for equivalence. So something like:\n",
    "\n",
    "```python\n",
    "if (amount_spent == 0):\n",
    "    do_something_with_amount_spent(amount_spent)\n",
    "else:\n",
    "    bla bla bla\n",
    "```\n",
    "\n",
    "However, in Python that's considered bad form. Let's see how we can handle things in a nicer, more readable way."
   ]
  },
  {
   "cell_type": "code",
   "execution_count": 24,
   "metadata": {
    "slideshow": {
     "slide_type": "slide"
    }
   },
   "outputs": [],
   "source": [
    "test_value = 0\n",
    "\n",
    "if test_value:\n",
    "    print(\"In the loop\")"
   ]
  },
  {
   "cell_type": "code",
   "execution_count": 25,
   "metadata": {
    "slideshow": {
     "slide_type": "slide"
    }
   },
   "outputs": [
    {
     "name": "stdout",
     "output_type": "stream",
     "text": [
      "In the loop\n"
     ]
    }
   ],
   "source": [
    "test_value = 1\n",
    "\n",
    "if test_value:\n",
    "    print(\"In the loop\")"
   ]
  },
  {
   "cell_type": "code",
   "execution_count": null,
   "metadata": {
    "slideshow": {
     "slide_type": "slide"
    }
   },
   "outputs": [],
   "source": [
    "def evaluate_as_bool(value):\n",
    "    \"\"\"\n",
    "    Asks python what the boolean representation\n",
    "    is for the provided value\n",
    "    \"\"\"\n",
    "    print(\"{} as bool: \".format(value), bool(value))\n",
    "\n",
    "\n",
    "evaluate_as_bool(1)\n",
    "evaluate_as_bool(0)\n",
    "evaluate_as_bool(0.00001)\n",
    "evaluate_as_bool(-50000)"
   ]
  },
  {
   "cell_type": "markdown",
   "metadata": {},
   "source": [
    "So python treats any non-zero number as a `True`, and exactly 0 as a `False`. What about other data structures?"
   ]
  },
  {
   "cell_type": "code",
   "execution_count": null,
   "metadata": {
    "slideshow": {
     "slide_type": "slide"
    }
   },
   "outputs": [],
   "source": [
    "evaluate_as_bool([])\n",
    "evaluate_as_bool([\"test\"])\n",
    "evaluate_as_bool([\"test\", 2, 5])\n",
    "evaluate_as_bool((\"test\", 2, 5))\n",
    "evaluate_as_bool(())\n",
    "evaluate_as_bool({})\n",
    "evaluate_as_bool({'test'})"
   ]
  },
  {
   "cell_type": "markdown",
   "metadata": {
    "slideshow": {
     "slide_type": "slide"
    }
   },
   "source": [
    "Python also treats empty lists/tuples/sets as `False` and non-empty lists as `True`. Using this methodology is much preferable to doing something like:"
   ]
  },
  {
   "cell_type": "code",
   "execution_count": null,
   "metadata": {
    "slideshow": {
     "slide_type": "slide"
    }
   },
   "outputs": [],
   "source": [
    "a_list = [1,2,3,4]\n",
    "\n",
    "if len(a_list) > 0:\n",
    "    print(\"This is a terrible way to write Python\")\n",
    "    \n",
    "if a_list:\n",
    "    print(\"Yeah, this is much nicer.\")"
   ]
  },
  {
   "cell_type": "markdown",
   "metadata": {
    "slideshow": {
     "slide_type": "slide"
    }
   },
   "source": [
    "What about strings?\n",
    "\n",
    "Given what we've learned so far, what do we think these three lines will evaluate to?"
   ]
  },
  {
   "cell_type": "code",
   "execution_count": null,
   "metadata": {
    "slideshow": {
     "slide_type": "slide"
    }
   },
   "outputs": [],
   "source": [
    "evaluate_as_bool('False')\n",
    "evaluate_as_bool('')\n",
    "evaluate_as_bool(' ') # There's a space here!"
   ]
  },
  {
   "cell_type": "markdown",
   "metadata": {},
   "source": [
    "Same idea as lists. Is it an empty string? `False` otherwise, `True`."
   ]
  },
  {
   "cell_type": "markdown",
   "metadata": {
    "slideshow": {
     "slide_type": "slide"
    }
   },
   "source": [
    "## Loops are vital and should be cleanly written\n",
    "\n",
    "`for` loops are great for almost any iterable. Let's see how we SHOULD write them. "
   ]
  },
  {
   "cell_type": "markdown",
   "metadata": {},
   "source": [
    "Good:"
   ]
  },
  {
   "cell_type": "code",
   "execution_count": null,
   "metadata": {},
   "outputs": [],
   "source": [
    "for row in table1:\n",
    "    print(row)"
   ]
  },
  {
   "cell_type": "markdown",
   "metadata": {},
   "source": [
    "Bad:"
   ]
  },
  {
   "cell_type": "code",
   "execution_count": null,
   "metadata": {},
   "outputs": [],
   "source": [
    "for i in range(len(table1)):\n",
    "    print(table1[i])"
   ]
  },
  {
   "cell_type": "markdown",
   "metadata": {},
   "source": [
    "In the bad example above, I can't immediately tell what you're doing. It's opaque and hard to read. That's bad form. If you do need to get the index, use `enumerate`"
   ]
  },
  {
   "cell_type": "code",
   "execution_count": null,
   "metadata": {},
   "outputs": [],
   "source": [
    "for ix, row in enumerate(table1):\n",
    "    print(ix, row, table1[ix])"
   ]
  },
  {
   "cell_type": "markdown",
   "metadata": {},
   "source": [
    "### List Comprehensions"
   ]
  },
  {
   "cell_type": "markdown",
   "metadata": {},
   "source": [
    "When you can, you should use list comprehensions. These are specific to Python, and are great for making your code small and efficient. Let's check them out. "
   ]
  },
  {
   "cell_type": "code",
   "execution_count": null,
   "metadata": {},
   "outputs": [],
   "source": [
    "a_list_of_numbers = [1,2,3,4,5,7]\n",
    "\n",
    "new_list_of_numbers = [x + 1 for x in a_list_of_numbers if x > 2]\n",
    "print(new_list_of_numbers)"
   ]
  },
  {
   "cell_type": "markdown",
   "metadata": {},
   "source": [
    "Unless you have a specific reason not to use a `for` loop, you shouldn't be using `while` loops. A common edge case is, what if we want to modify the object we're looping over in real-time and apply that update inside the loop. Then we might need to use a `while`."
   ]
  },
  {
   "cell_type": "markdown",
   "metadata": {},
   "source": [
    "## Using `in` for checking existence\n",
    "\n",
    "In the above example, we used `in` to check if something was in a Python structure. Let's examine that a bit by trying to see if a letter exists in a string."
   ]
  },
  {
   "cell_type": "code",
   "execution_count": null,
   "metadata": {},
   "outputs": [],
   "source": [
    "test_string = \"test string of words, yep\"\n",
    "\n",
    "if 'z' in test_string:\n",
    "    print(\"Found a 'z'\")\n",
    "if 'e' in test_string:\n",
    "    print(\"Found an 'e'\")"
   ]
  },
  {
   "cell_type": "markdown",
   "metadata": {},
   "source": [
    "What about a list?"
   ]
  },
  {
   "cell_type": "code",
   "execution_count": null,
   "metadata": {},
   "outputs": [],
   "source": [
    "test_list = [1,2,3,4,5]\n",
    "\n",
    "if 1 in test_list:\n",
    "    print(\"Found a '1'\")\n",
    "if 6 in test_list:\n",
    "    print(\"Found an '6'\")"
   ]
  },
  {
   "cell_type": "markdown",
   "metadata": {
    "slideshow": {
     "slide_type": "slide"
    }
   },
   "source": [
    "## Errors should never pass silently\n",
    "\n",
    "When things happen that are unexpected, have your code raise an exception"
   ]
  },
  {
   "cell_type": "code",
   "execution_count": 50,
   "metadata": {
    "slideshow": {
     "slide_type": "slide"
    }
   },
   "outputs": [
    {
     "ename": "ValueError",
     "evalue": "harus angka genap woy",
     "output_type": "error",
     "traceback": [
      "\u001b[0;31m---------------------------------------------------------------------------\u001b[0m",
      "\u001b[0;31mValueError\u001b[0m                                Traceback (most recent call last)",
      "\u001b[0;32m<ipython-input-50-50041c252bf5>\u001b[0m in \u001b[0;36m<module>\u001b[0;34m\u001b[0m\n\u001b[1;32m      1\u001b[0m \u001b[0mclass_list\u001b[0m \u001b[0;34m=\u001b[0m \u001b[0;34m[\u001b[0m\u001b[0;36m1\u001b[0m\u001b[0;34m,\u001b[0m\u001b[0;36m2\u001b[0m\u001b[0;34m,\u001b[0m\u001b[0;36m3\u001b[0m\u001b[0;34m]\u001b[0m\u001b[0;34m\u001b[0m\u001b[0;34m\u001b[0m\u001b[0m\n\u001b[1;32m      2\u001b[0m \u001b[0;32mif\u001b[0m \u001b[0mlen\u001b[0m\u001b[0;34m(\u001b[0m\u001b[0mclass_list\u001b[0m\u001b[0;34m)\u001b[0m \u001b[0;34m%\u001b[0m \u001b[0;36m2\u001b[0m \u001b[0;34m!=\u001b[0m\u001b[0;36m0\u001b[0m\u001b[0;34m:\u001b[0m\u001b[0;34m\u001b[0m\u001b[0;34m\u001b[0m\u001b[0m\n\u001b[0;32m----> 3\u001b[0;31m     \u001b[0;32mraise\u001b[0m \u001b[0mValueError\u001b[0m\u001b[0;34m(\u001b[0m\u001b[0;34m'harus angka genap woy'\u001b[0m\u001b[0;34m)\u001b[0m\u001b[0;34m\u001b[0m\u001b[0;34m\u001b[0m\u001b[0m\n\u001b[0m",
      "\u001b[0;31mValueError\u001b[0m: harus angka genap woy"
     ]
    }
   ],
   "source": [
    "class_list = [1,2,3]\n",
    "if len(class_list) % 2 !=0:\n",
    "    raise ValueError('harus angka genap woy')"
   ]
  },
  {
   "cell_type": "markdown",
   "metadata": {},
   "source": [
    "You can also use `assert` to check if something is behaving correctly."
   ]
  },
  {
   "cell_type": "code",
   "execution_count": 51,
   "metadata": {},
   "outputs": [
    {
     "ename": "AssertionError",
     "evalue": "INPUT HARUS LIST BANGS*T",
     "output_type": "error",
     "traceback": [
      "\u001b[0;31m---------------------------------------------------------------------------\u001b[0m",
      "\u001b[0;31mAssertionError\u001b[0m                            Traceback (most recent call last)",
      "\u001b[0;32m<ipython-input-51-17ac5f6e7e10>\u001b[0m in \u001b[0;36m<module>\u001b[0;34m\u001b[0m\n\u001b[1;32m      6\u001b[0m     \u001b[0;32mreturn\u001b[0m \u001b[0msum\u001b[0m\u001b[0;34m(\u001b[0m\u001b[0mlist_to_sum\u001b[0m\u001b[0;34m)\u001b[0m\u001b[0;34m\u001b[0m\u001b[0;34m\u001b[0m\u001b[0m\n\u001b[1;32m      7\u001b[0m \u001b[0;34m\u001b[0m\u001b[0m\n\u001b[0;32m----> 8\u001b[0;31m \u001b[0mprint\u001b[0m\u001b[0;34m(\u001b[0m\u001b[0msum_up_a_list\u001b[0m\u001b[0;34m(\u001b[0m\u001b[0;36m3\u001b[0m\u001b[0;34m)\u001b[0m\u001b[0;34m)\u001b[0m\u001b[0;34m\u001b[0m\u001b[0;34m\u001b[0m\u001b[0m\n\u001b[0m",
      "\u001b[0;32m<ipython-input-51-17ac5f6e7e10>\u001b[0m in \u001b[0;36msum_up_a_list\u001b[0;34m(list_to_sum)\u001b[0m\n\u001b[1;32m      3\u001b[0m     \u001b[0mTakes\u001b[0m \u001b[0ma\u001b[0m \u001b[0mlist\u001b[0m \u001b[0mof\u001b[0m \u001b[0mnumbers\u001b[0m \u001b[0;32mand\u001b[0m \u001b[0mreturns\u001b[0m \u001b[0mthe\u001b[0m \u001b[0msum\u001b[0m\u001b[0;34m\u001b[0m\u001b[0;34m\u001b[0m\u001b[0m\n\u001b[1;32m      4\u001b[0m     \"\"\"\n\u001b[0;32m----> 5\u001b[0;31m     \u001b[0;32massert\u001b[0m \u001b[0mtype\u001b[0m\u001b[0;34m(\u001b[0m\u001b[0mlist_to_sum\u001b[0m\u001b[0;34m)\u001b[0m \u001b[0;34m==\u001b[0m \u001b[0mlist\u001b[0m\u001b[0;34m,\u001b[0m \u001b[0;34m\"INPUT HARUS LIST BANGS*T\"\u001b[0m\u001b[0;34m\u001b[0m\u001b[0;34m\u001b[0m\u001b[0m\n\u001b[0m\u001b[1;32m      6\u001b[0m     \u001b[0;32mreturn\u001b[0m \u001b[0msum\u001b[0m\u001b[0;34m(\u001b[0m\u001b[0mlist_to_sum\u001b[0m\u001b[0;34m)\u001b[0m\u001b[0;34m\u001b[0m\u001b[0;34m\u001b[0m\u001b[0m\n\u001b[1;32m      7\u001b[0m \u001b[0;34m\u001b[0m\u001b[0m\n",
      "\u001b[0;31mAssertionError\u001b[0m: INPUT HARUS LIST BANGS*T"
     ]
    }
   ],
   "source": [
    "def sum_up_a_list(list_to_sum):\n",
    "    \"\"\"\n",
    "    Takes a list of numbers and returns the sum\n",
    "    \"\"\"\n",
    "    assert type(list_to_sum) == list, \"INPUT HARUS LIST BANGS*T\"\n",
    "    return sum(list_to_sum)\n",
    "\n",
    "print(sum_up_a_list(3))"
   ]
  },
  {
   "cell_type": "code",
   "execution_count": 28,
   "metadata": {},
   "outputs": [
    {
     "name": "stdout",
     "output_type": "stream",
     "text": [
      "6\n"
     ]
    }
   ],
   "source": [
    "print(sum_up_a_list([1,2,3]))"
   ]
  },
  {
   "cell_type": "markdown",
   "metadata": {
    "slideshow": {
     "slide_type": "slide"
    }
   },
   "source": [
    "## Try-Except"
   ]
  },
  {
   "cell_type": "markdown",
   "metadata": {},
   "source": [
    "The `try-except` paradigm is a great way of building code that can react to errors on the fly. The way of doing things is to put a block of code inside a `try` statement, then the \"how to react\" in the `except`."
   ]
  },
  {
   "cell_type": "code",
   "execution_count": 29,
   "metadata": {},
   "outputs": [
    {
     "name": "stdout",
     "output_type": "stream",
     "text": [
      "Trying to divide\n",
      "\n",
      "Oops, forgot to make it a number\n",
      "0.5\n"
     ]
    }
   ],
   "source": [
    "x = \"1\" # this is a string version of 1, can't do math on it\n",
    "\n",
    "try:\n",
    "    print(\"Trying to divide\")\n",
    "    print(x/2)\n",
    "    print(\"This won't happen because of the error\")\n",
    "    \n",
    "except TypeError:\n",
    "    print(\"\\nOops, forgot to make it a number\")\n",
    "    print(float(x)/2)"
   ]
  },
  {
   "cell_type": "markdown",
   "metadata": {},
   "source": [
    "It's bad form to have an except statement that doesn't tell you what type of contingency it's planning for. These are called \"bare excepts\" and you should try to avoid them because you don't really know what's happening in the error."
   ]
  },
  {
   "cell_type": "code",
   "execution_count": 30,
   "metadata": {
    "slideshow": {
     "slide_type": "slide"
    }
   },
   "outputs": [
    {
     "name": "stdout",
     "output_type": "stream",
     "text": [
      "¯\\_(ツ)_/¯\n"
     ]
    }
   ],
   "source": [
    "del x # Let's make sure x doesn't exist\n",
    "\n",
    "try:\n",
    "    str(x)\n",
    "except:\n",
    "    print(\"¯\\_(ツ)_/¯\")"
   ]
  },
  {
   "cell_type": "markdown",
   "metadata": {
    "slideshow": {
     "slide_type": "slide"
    }
   },
   "source": [
    "try instead and we'll see that the error isn't a \"TypeError\" so we get a different error message telling us that this isn't the error we planned for:"
   ]
  },
  {
   "cell_type": "code",
   "execution_count": 31,
   "metadata": {
    "slideshow": {
     "slide_type": "slide"
    }
   },
   "outputs": [
    {
     "ename": "NameError",
     "evalue": "name 'x' is not defined",
     "output_type": "error",
     "traceback": [
      "\u001b[0;31m---------------------------------------------------------------------------\u001b[0m",
      "\u001b[0;31mNameError\u001b[0m                                 Traceback (most recent call last)",
      "\u001b[0;32m<ipython-input-31-bd9a851fbea7>\u001b[0m in \u001b[0;36m<module>\u001b[0;34m\u001b[0m\n\u001b[1;32m      1\u001b[0m \u001b[0;32mtry\u001b[0m\u001b[0;34m:\u001b[0m\u001b[0;34m\u001b[0m\u001b[0;34m\u001b[0m\u001b[0m\n\u001b[0;32m----> 2\u001b[0;31m     \u001b[0mstr\u001b[0m\u001b[0;34m(\u001b[0m\u001b[0mx\u001b[0m\u001b[0;34m)\u001b[0m\u001b[0;34m\u001b[0m\u001b[0;34m\u001b[0m\u001b[0m\n\u001b[0m\u001b[1;32m      3\u001b[0m \u001b[0;32mexcept\u001b[0m \u001b[0mTypeError\u001b[0m\u001b[0;34m:\u001b[0m\u001b[0;34m\u001b[0m\u001b[0;34m\u001b[0m\u001b[0m\n\u001b[1;32m      4\u001b[0m     \u001b[0mprint\u001b[0m\u001b[0;34m(\u001b[0m\u001b[0;34m\"x could not be made a string\"\u001b[0m\u001b[0;34m)\u001b[0m\u001b[0;34m\u001b[0m\u001b[0;34m\u001b[0m\u001b[0m\n\u001b[1;32m      5\u001b[0m     \u001b[0;32mraise\u001b[0m\u001b[0;34m\u001b[0m\u001b[0;34m\u001b[0m\u001b[0m\n",
      "\u001b[0;31mNameError\u001b[0m: name 'x' is not defined"
     ]
    }
   ],
   "source": [
    "try:\n",
    "    str(x)\n",
    "except TypeError:\n",
    "    print(\"x could not be made a string\")\n",
    "    raise"
   ]
  },
  {
   "cell_type": "markdown",
   "metadata": {},
   "source": [
    "# Summary\n",
    "\n",
    "We've only touched on some of the most common \"got ya's\" in Python coding. There are many more parts of the standard that can be found here:\n",
    "\n",
    "[PEP8 Guide](https://www.python.org/dev/peps/pep-0008/)\n",
    "\n",
    "Remember: code like your code review is a psycho serial killer. be careful of your naming conventions! "
   ]
  },
  {
   "cell_type": "code",
   "execution_count": null,
   "metadata": {},
   "outputs": [],
   "source": []
  },
  {
   "cell_type": "code",
   "execution_count": null,
   "metadata": {},
   "outputs": [],
   "source": []
  }
 ],
 "metadata": {
  "anaconda-cloud": {},
  "kernelspec": {
   "display_name": "Python 3",
   "language": "python",
   "name": "python3"
  },
  "language_info": {
   "codemirror_mode": {
    "name": "ipython",
    "version": 3
   },
   "file_extension": ".py",
   "mimetype": "text/x-python",
   "name": "python",
   "nbconvert_exporter": "python",
   "pygments_lexer": "ipython3",
   "version": "3.7.3"
  },
  "toc": {
   "nav_menu": {},
   "number_sections": true,
   "sideBar": true,
   "skip_h1_title": false,
   "toc_cell": false,
   "toc_position": {},
   "toc_section_display": "block",
   "toc_window_display": false
  },
  "varInspector": {
   "cols": {
    "lenName": 16,
    "lenType": 16,
    "lenVar": 40
   },
   "kernels_config": {
    "python": {
     "delete_cmd_postfix": "",
     "delete_cmd_prefix": "del ",
     "library": "var_list.py",
     "varRefreshCmd": "print(var_dic_list())"
    },
    "r": {
     "delete_cmd_postfix": ") ",
     "delete_cmd_prefix": "rm(",
     "library": "var_list.r",
     "varRefreshCmd": "cat(var_dic_list()) "
    }
   },
   "types_to_exclude": [
    "module",
    "function",
    "builtin_function_or_method",
    "instance",
    "_Feature"
   ],
   "window_display": false
  }
 },
 "nbformat": 4,
 "nbformat_minor": 1
}
